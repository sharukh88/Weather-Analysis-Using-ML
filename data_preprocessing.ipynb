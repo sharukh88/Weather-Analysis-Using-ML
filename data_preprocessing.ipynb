{
 "cells": [
  {
   "cell_type": "code",
   "execution_count": 1,
   "metadata": {
    "id": "OOMKrAMU8DYA"
   },
   "outputs": [],
   "source": [
    "import pandas as pd"
   ]
  },
  {
   "cell_type": "markdown",
   "metadata": {},
   "source": [
    "<h2>Loading the parquet file</h2>"
   ]
  },
  {
   "cell_type": "markdown",
   "metadata": {},
   "source": [
    "<p>This line of code reads data from a Parquet file named \"daily_weather.parquet\" into a pandas DataFrame called daily_weather. Parquet is a columnar storage file format commonly used in big data processing frameworks like Apache Spark.</p>"
   ]
  },
  {
   "cell_type": "code",
   "execution_count": 2,
   "metadata": {
    "id": "j8I-FXHo9o3R"
   },
   "outputs": [],
   "source": [
    "daily_weather = pd.read_parquet(\"./daily_weather.parquet\").drop_duplicates()"
   ]
  },
  {
   "cell_type": "code",
   "execution_count": 3,
   "metadata": {
    "colab": {
     "base_uri": "https://localhost:8080/"
    },
    "id": "TPAn_HPB9wtn",
    "outputId": "dd2e9efc-d7d0-4331-b232-d98ae45eb380",
    "scrolled": true
   },
   "outputs": [
    {
     "name": "stdout",
     "output_type": "stream",
     "text": [
      "<class 'pandas.core.frame.DataFrame'>\n",
      "Int64Index: 27614483 entries, 0 to 24220\n",
      "Data columns (total 14 columns):\n",
      " #   Column                  Dtype         \n",
      "---  ------                  -----         \n",
      " 0   station_id              category      \n",
      " 1   city_name               category      \n",
      " 2   date                    datetime64[ns]\n",
      " 3   season                  category      \n",
      " 4   avg_temp_c              float64       \n",
      " 5   min_temp_c              float64       \n",
      " 6   max_temp_c              float64       \n",
      " 7   precipitation_mm        float64       \n",
      " 8   snow_depth_mm           float64       \n",
      " 9   avg_wind_dir_deg        float64       \n",
      " 10  avg_wind_speed_kmh      float64       \n",
      " 11  peak_wind_gust_kmh      float64       \n",
      " 12  avg_sea_level_pres_hpa  float64       \n",
      " 13  sunshine_total_min      float64       \n",
      "dtypes: category(3), datetime64[ns](1), float64(10)\n",
      "memory usage: 2.6 GB\n"
     ]
    }
   ],
   "source": [
    "daily_weather.info()"
   ]
  },
  {
   "cell_type": "markdown",
   "metadata": {},
   "source": [
    "<p> The line above shows the DataFrame has a total of 27,614,483 entries (rows).\n",
    "It has 14 columns.\n",
    "Each column's name and its data type are listed.\n",
    "The memory usage of the DataFrame is approximately 2.6 GB. </p>"
   ]
  },
  {
   "cell_type": "code",
   "execution_count": 4,
   "metadata": {
    "colab": {
     "base_uri": "https://localhost:8080/"
    },
    "id": "l77nI_eg90OP",
    "outputId": "a7fcde9b-b2ef-4a3a-904c-df196f9b3ba3"
   },
   "outputs": [
    {
     "data": {
      "text/plain": [
       "['Asadabad', 'Fayzabad', 'Jalalabad', 'Kunduz', 'Qala i Naw', ..., 'Kasama', 'Livingstone', 'Mongu', 'Harare', 'Masvingo']\n",
       "Length: 1235\n",
       "Categories (1234, object): ['Aalborg', 'Abakan', 'Abha', 'Abidjan', ..., 'Ōita', 'Ōsaka', 'Şanlıurfa', 'Šibenik']"
      ]
     },
     "execution_count": 4,
     "metadata": {},
     "output_type": "execute_result"
    }
   ],
   "source": [
    "daily_weather.city_name.unique()"
   ]
  },
  {
   "cell_type": "markdown",
   "metadata": {},
   "source": [
    "<p> In the code above, the method is used obtain an array of unique city names from the city_name column in the daily_weather DataFrame. .unique() is a pandas method that returns an array of unique values from the specified column </p>"
   ]
  },
  {
   "cell_type": "code",
   "execution_count": 5,
   "metadata": {
    "colab": {
     "base_uri": "https://localhost:8080/",
     "height": 313
    },
    "id": "B805rNLc94c-",
    "outputId": "293cc720-9eb1-46e9-f451-94cad510a7f1"
   },
   "outputs": [
    {
     "data": {
      "text/html": [
       "<div>\n",
       "<style scoped>\n",
       "    .dataframe tbody tr th:only-of-type {\n",
       "        vertical-align: middle;\n",
       "    }\n",
       "\n",
       "    .dataframe tbody tr th {\n",
       "        vertical-align: top;\n",
       "    }\n",
       "\n",
       "    .dataframe thead th {\n",
       "        text-align: right;\n",
       "    }\n",
       "</style>\n",
       "<table border=\"1\" class=\"dataframe\">\n",
       "  <thead>\n",
       "    <tr style=\"text-align: right;\">\n",
       "      <th></th>\n",
       "      <th>station_id</th>\n",
       "      <th>city_name</th>\n",
       "      <th>date</th>\n",
       "      <th>season</th>\n",
       "      <th>avg_temp_c</th>\n",
       "      <th>min_temp_c</th>\n",
       "      <th>max_temp_c</th>\n",
       "      <th>precipitation_mm</th>\n",
       "      <th>snow_depth_mm</th>\n",
       "      <th>avg_wind_dir_deg</th>\n",
       "      <th>avg_wind_speed_kmh</th>\n",
       "      <th>peak_wind_gust_kmh</th>\n",
       "      <th>avg_sea_level_pres_hpa</th>\n",
       "      <th>sunshine_total_min</th>\n",
       "    </tr>\n",
       "  </thead>\n",
       "  <tbody>\n",
       "    <tr>\n",
       "      <th>0</th>\n",
       "      <td>41515</td>\n",
       "      <td>Asadabad</td>\n",
       "      <td>1957-07-01</td>\n",
       "      <td>Summer</td>\n",
       "      <td>27.0</td>\n",
       "      <td>21.1</td>\n",
       "      <td>35.6</td>\n",
       "      <td>0.0</td>\n",
       "      <td>NaN</td>\n",
       "      <td>NaN</td>\n",
       "      <td>NaN</td>\n",
       "      <td>NaN</td>\n",
       "      <td>NaN</td>\n",
       "      <td>NaN</td>\n",
       "    </tr>\n",
       "    <tr>\n",
       "      <th>1</th>\n",
       "      <td>41515</td>\n",
       "      <td>Asadabad</td>\n",
       "      <td>1957-07-02</td>\n",
       "      <td>Summer</td>\n",
       "      <td>22.8</td>\n",
       "      <td>18.9</td>\n",
       "      <td>32.2</td>\n",
       "      <td>0.0</td>\n",
       "      <td>NaN</td>\n",
       "      <td>NaN</td>\n",
       "      <td>NaN</td>\n",
       "      <td>NaN</td>\n",
       "      <td>NaN</td>\n",
       "      <td>NaN</td>\n",
       "    </tr>\n",
       "    <tr>\n",
       "      <th>2</th>\n",
       "      <td>41515</td>\n",
       "      <td>Asadabad</td>\n",
       "      <td>1957-07-03</td>\n",
       "      <td>Summer</td>\n",
       "      <td>24.3</td>\n",
       "      <td>16.7</td>\n",
       "      <td>35.6</td>\n",
       "      <td>1.0</td>\n",
       "      <td>NaN</td>\n",
       "      <td>NaN</td>\n",
       "      <td>NaN</td>\n",
       "      <td>NaN</td>\n",
       "      <td>NaN</td>\n",
       "      <td>NaN</td>\n",
       "    </tr>\n",
       "    <tr>\n",
       "      <th>3</th>\n",
       "      <td>41515</td>\n",
       "      <td>Asadabad</td>\n",
       "      <td>1957-07-04</td>\n",
       "      <td>Summer</td>\n",
       "      <td>26.6</td>\n",
       "      <td>16.1</td>\n",
       "      <td>37.8</td>\n",
       "      <td>4.1</td>\n",
       "      <td>NaN</td>\n",
       "      <td>NaN</td>\n",
       "      <td>NaN</td>\n",
       "      <td>NaN</td>\n",
       "      <td>NaN</td>\n",
       "      <td>NaN</td>\n",
       "    </tr>\n",
       "    <tr>\n",
       "      <th>4</th>\n",
       "      <td>41515</td>\n",
       "      <td>Asadabad</td>\n",
       "      <td>1957-07-05</td>\n",
       "      <td>Summer</td>\n",
       "      <td>30.8</td>\n",
       "      <td>20.0</td>\n",
       "      <td>41.7</td>\n",
       "      <td>0.0</td>\n",
       "      <td>NaN</td>\n",
       "      <td>NaN</td>\n",
       "      <td>NaN</td>\n",
       "      <td>NaN</td>\n",
       "      <td>NaN</td>\n",
       "      <td>NaN</td>\n",
       "    </tr>\n",
       "  </tbody>\n",
       "</table>\n",
       "</div>"
      ],
      "text/plain": [
       "  station_id city_name       date  season  avg_temp_c  min_temp_c  max_temp_c  \\\n",
       "0      41515  Asadabad 1957-07-01  Summer        27.0        21.1        35.6   \n",
       "1      41515  Asadabad 1957-07-02  Summer        22.8        18.9        32.2   \n",
       "2      41515  Asadabad 1957-07-03  Summer        24.3        16.7        35.6   \n",
       "3      41515  Asadabad 1957-07-04  Summer        26.6        16.1        37.8   \n",
       "4      41515  Asadabad 1957-07-05  Summer        30.8        20.0        41.7   \n",
       "\n",
       "   precipitation_mm  snow_depth_mm  avg_wind_dir_deg  avg_wind_speed_kmh  \\\n",
       "0               0.0            NaN               NaN                 NaN   \n",
       "1               0.0            NaN               NaN                 NaN   \n",
       "2               1.0            NaN               NaN                 NaN   \n",
       "3               4.1            NaN               NaN                 NaN   \n",
       "4               0.0            NaN               NaN                 NaN   \n",
       "\n",
       "   peak_wind_gust_kmh  avg_sea_level_pres_hpa  sunshine_total_min  \n",
       "0                 NaN                     NaN                 NaN  \n",
       "1                 NaN                     NaN                 NaN  \n",
       "2                 NaN                     NaN                 NaN  \n",
       "3                 NaN                     NaN                 NaN  \n",
       "4                 NaN                     NaN                 NaN  "
      ]
     },
     "execution_count": 5,
     "metadata": {},
     "output_type": "execute_result"
    }
   ],
   "source": [
    "daily_weather.head()"
   ]
  },
  {
   "cell_type": "markdown",
   "metadata": {},
   "source": [
    "<h2>Loading countries and cities data</h2>"
   ]
  },
  {
   "cell_type": "code",
   "execution_count": 6,
   "metadata": {
    "id": "1cvAw9Nb97Qi"
   },
   "outputs": [],
   "source": [
    "countries = pd.read_csv(\"countries.csv\")\n",
    "cities = pd.read_csv(\"cities.csv\")"
   ]
  },
  {
   "cell_type": "code",
   "execution_count": 7,
   "metadata": {
    "colab": {
     "base_uri": "https://localhost:8080/"
    },
    "id": "xy8ho-60-B1z",
    "outputId": "3b4d492a-e74b-4d38-814e-46e93d1852a7"
   },
   "outputs": [
    {
     "name": "stdout",
     "output_type": "stream",
     "text": [
      "<class 'pandas.core.frame.DataFrame'>\n",
      "RangeIndex: 214 entries, 0 to 213\n",
      "Data columns (total 11 columns):\n",
      " #   Column       Non-Null Count  Dtype  \n",
      "---  ------       --------------  -----  \n",
      " 0   country      214 non-null    object \n",
      " 1   native_name  213 non-null    object \n",
      " 2   iso2         213 non-null    object \n",
      " 3   iso3         214 non-null    object \n",
      " 4   population   210 non-null    float64\n",
      " 5   area         207 non-null    float64\n",
      " 6   capital      212 non-null    object \n",
      " 7   capital_lat  212 non-null    float64\n",
      " 8   capital_lng  212 non-null    float64\n",
      " 9   region       205 non-null    object \n",
      " 10  continent    206 non-null    object \n",
      "dtypes: float64(4), object(7)\n",
      "memory usage: 18.5+ KB\n"
     ]
    }
   ],
   "source": [
    "countries.info()"
   ]
  },
  {
   "cell_type": "code",
   "execution_count": 8,
   "metadata": {
    "colab": {
     "base_uri": "https://localhost:8080/"
    },
    "id": "ObYLh82V-DPD",
    "outputId": "8ce30920-1fea-42a3-db1f-bc2964db6639",
    "scrolled": true
   },
   "outputs": [
    {
     "name": "stdout",
     "output_type": "stream",
     "text": [
      "<class 'pandas.core.frame.DataFrame'>\n",
      "RangeIndex: 1245 entries, 0 to 1244\n",
      "Data columns (total 8 columns):\n",
      " #   Column      Non-Null Count  Dtype  \n",
      "---  ------      --------------  -----  \n",
      " 0   station_id  1245 non-null   object \n",
      " 1   city_name   1244 non-null   object \n",
      " 2   country     1245 non-null   object \n",
      " 3   state       1217 non-null   object \n",
      " 4   iso2        1239 non-null   object \n",
      " 5   iso3        1245 non-null   object \n",
      " 6   latitude    1245 non-null   float64\n",
      " 7   longitude   1245 non-null   float64\n",
      "dtypes: float64(2), object(6)\n",
      "memory usage: 77.9+ KB\n"
     ]
    }
   ],
   "source": [
    "cities.info()"
   ]
  },
  {
   "cell_type": "code",
   "execution_count": 9,
   "metadata": {
    "colab": {
     "base_uri": "https://localhost:8080/"
    },
    "id": "r53dOSb2-EyW",
    "outputId": "9c4d98e9-6121-44f7-d018-db3f0bb9ee81",
    "scrolled": true
   },
   "outputs": [
    {
     "data": {
      "text/plain": [
       "station_id                       0\n",
       "city_name                    13993\n",
       "date                             0\n",
       "season                           0\n",
       "avg_temp_c                 6230907\n",
       "min_temp_c                 5715834\n",
       "max_temp_c                 5536533\n",
       "precipitation_mm           6631532\n",
       "snow_depth_mm             24187335\n",
       "avg_wind_dir_deg          24168537\n",
       "avg_wind_speed_kmh        22339089\n",
       "peak_wind_gust_kmh        26492997\n",
       "avg_sea_level_pres_hpa    23603562\n",
       "sunshine_total_min        26593022\n",
       "dtype: int64"
      ]
     },
     "execution_count": 9,
     "metadata": {},
     "output_type": "execute_result"
    }
   ],
   "source": [
    "daily_weather.isna().sum()"
   ]
  },
  {
   "cell_type": "markdown",
   "metadata": {},
   "source": [
    "<p>  This returns a DataFrame of the same shape as daily_weather with boolean values indicating whether each element is missing (True) or not missing (False). True indicates the presence of a missing value (NaN) in that particular cell. This method is then applied to the DataFrame returned by daily_weather.isna() to sum up the number of True values (i.e., missing values) in each column </p>"
   ]
  },
  {
   "cell_type": "markdown",
   "metadata": {},
   "source": [
    "<h3>Dropping the columns with most null values</h3>"
   ]
  },
  {
   "cell_type": "code",
   "execution_count": 10,
   "metadata": {
    "id": "0iSDR5PxChH1"
   },
   "outputs": [],
   "source": [
    "daily_weather.drop(columns=['peak_wind_gust_kmh','sunshine_total_min',\n",
    "                            'snow_depth_mm','avg_wind_dir_deg',\n",
    "                            'avg_wind_speed_kmh','avg_sea_level_pres_hpa'],inplace=True)"
   ]
  },
  {
   "cell_type": "code",
   "execution_count": 11,
   "metadata": {
    "colab": {
     "base_uri": "https://localhost:8080/"
    },
    "id": "TDzvCx36C8nJ",
    "outputId": "933bc646-e85e-44f3-a9e1-a7ba7542993b",
    "scrolled": true
   },
   "outputs": [
    {
     "name": "stdout",
     "output_type": "stream",
     "text": [
      "<class 'pandas.core.frame.DataFrame'>\n",
      "Int64Index: 27614483 entries, 0 to 24220\n",
      "Data columns (total 8 columns):\n",
      " #   Column            Dtype         \n",
      "---  ------            -----         \n",
      " 0   station_id        category      \n",
      " 1   city_name         category      \n",
      " 2   date              datetime64[ns]\n",
      " 3   season            category      \n",
      " 4   avg_temp_c        float64       \n",
      " 5   min_temp_c        float64       \n",
      " 6   max_temp_c        float64       \n",
      " 7   precipitation_mm  float64       \n",
      "dtypes: category(3), datetime64[ns](1), float64(4)\n",
      "memory usage: 1.4 GB\n"
     ]
    }
   ],
   "source": [
    "daily_weather.info()"
   ]
  },
  {
   "cell_type": "markdown",
   "metadata": {},
   "source": [
    "<h2>Merging the weather and cities dataset on station_id and city_name</h2>"
   ]
  },
  {
   "cell_type": "code",
   "execution_count": 12,
   "metadata": {
    "id": "nDHjtVGDDSr0"
   },
   "outputs": [],
   "source": [
    "merged_df = pd.merge(daily_weather,cities, on = ['station_id','city_name'],how='left')"
   ]
  },
  {
   "cell_type": "markdown",
   "metadata": {},
   "source": [
    "<p>In the code above, \n",
    "    pd.merge(): This is a pandas function used to merge DataFrames.\n",
    "    daily_weather: This is the left DataFrame that you want to merge.\n",
    "    cities: This is the right DataFrame that you want to merge.\n",
    "    on=['station_id', 'city_name']: This parameter specifies the columns to join the DataFrames on. In this case,\n",
    "    it joins them based on the 'station_id' and 'city_name' columns.\n",
    "    how='left': This parameter specifies the type of join to perform. A left join (how='left') keeps all the rows\n",
    "    from the left DataFrame (daily_weather) and only the matching rows from the right DataFrame (cities). If\n",
    "    there's no match in the right DataFrame, NaN values will be filled in. </p>"
   ]
  },
  {
   "cell_type": "code",
   "execution_count": 13,
   "metadata": {
    "colab": {
     "base_uri": "https://localhost:8080/"
    },
    "id": "0EfJwJE9EGkB",
    "outputId": "41e06c9a-fd50-4dc5-d568-b170b47409a0"
   },
   "outputs": [
    {
     "name": "stdout",
     "output_type": "stream",
     "text": [
      "<class 'pandas.core.frame.DataFrame'>\n",
      "Int64Index: 27635763 entries, 0 to 27635762\n",
      "Data columns (total 14 columns):\n",
      " #   Column            Dtype         \n",
      "---  ------            -----         \n",
      " 0   station_id        object        \n",
      " 1   city_name         object        \n",
      " 2   date              datetime64[ns]\n",
      " 3   season            category      \n",
      " 4   avg_temp_c        float64       \n",
      " 5   min_temp_c        float64       \n",
      " 6   max_temp_c        float64       \n",
      " 7   precipitation_mm  float64       \n",
      " 8   country           object        \n",
      " 9   state             object        \n",
      " 10  iso2              object        \n",
      " 11  iso3              object        \n",
      " 12  latitude          float64       \n",
      " 13  longitude         float64       \n",
      "dtypes: category(1), datetime64[ns](1), float64(6), object(6)\n",
      "memory usage: 2.9+ GB\n"
     ]
    }
   ],
   "source": [
    "merged_df.info()"
   ]
  },
  {
   "cell_type": "code",
   "execution_count": 14,
   "metadata": {
    "colab": {
     "base_uri": "https://localhost:8080/"
    },
    "id": "iUkDzWWpES0B",
    "outputId": "c9b4d6b0-569d-42f1-de7c-5e009a7a1f29"
   },
   "outputs": [
    {
     "data": {
      "text/plain": [
       "station_id                0\n",
       "city_name             13993\n",
       "date                      0\n",
       "season                    0\n",
       "avg_temp_c          6230907\n",
       "min_temp_c          5718229\n",
       "max_temp_c          5539346\n",
       "precipitation_mm    6642500\n",
       "country                   0\n",
       "state                546360\n",
       "iso2                 130781\n",
       "iso3                      0\n",
       "latitude                  0\n",
       "longitude                 0\n",
       "dtype: int64"
      ]
     },
     "execution_count": 14,
     "metadata": {},
     "output_type": "execute_result"
    }
   ],
   "source": [
    "merged_df.isna().sum()"
   ]
  },
  {
   "cell_type": "markdown",
   "metadata": {},
   "source": [
    "<h4>Dropping station_id because it is unique for each row/entry dropping it can help streamline the dataset and reduce redundancy</h4>"
   ]
  },
  {
   "cell_type": "code",
   "execution_count": 15,
   "metadata": {
    "id": "0dEB4_6bEYnt"
   },
   "outputs": [],
   "source": [
    "merged_df.drop('station_id',axis=1,inplace=True)"
   ]
  },
  {
   "cell_type": "code",
   "execution_count": 16,
   "metadata": {
    "colab": {
     "base_uri": "https://localhost:8080/"
    },
    "id": "hWx48BhPEsoR",
    "outputId": "749c206d-24b1-4deb-edfa-161ab9b1c692"
   },
   "outputs": [
    {
     "name": "stdout",
     "output_type": "stream",
     "text": [
      "<class 'pandas.core.frame.DataFrame'>\n",
      "Int64Index: 27635763 entries, 0 to 27635762\n",
      "Data columns (total 13 columns):\n",
      " #   Column            Dtype         \n",
      "---  ------            -----         \n",
      " 0   city_name         object        \n",
      " 1   date              datetime64[ns]\n",
      " 2   season            category      \n",
      " 3   avg_temp_c        float64       \n",
      " 4   min_temp_c        float64       \n",
      " 5   max_temp_c        float64       \n",
      " 6   precipitation_mm  float64       \n",
      " 7   country           object        \n",
      " 8   state             object        \n",
      " 9   iso2              object        \n",
      " 10  iso3              object        \n",
      " 11  latitude          float64       \n",
      " 12  longitude         float64       \n",
      "dtypes: category(1), datetime64[ns](1), float64(6), object(5)\n",
      "memory usage: 2.7+ GB\n"
     ]
    }
   ],
   "source": [
    "merged_df.info()"
   ]
  },
  {
   "cell_type": "markdown",
   "metadata": {},
   "source": [
    "<h2>Merging countries and previous merged data</h2>"
   ]
  },
  {
   "cell_type": "code",
   "execution_count": 17,
   "metadata": {
    "id": "Q7rzFVksE3tn"
   },
   "outputs": [],
   "source": [
    "final_df = pd.merge(merged_df,countries,on=['country'],how='left')"
   ]
  },
  {
   "cell_type": "code",
   "execution_count": 18,
   "metadata": {
    "execution": {
     "iopub.execute_input": "2023-12-07T06:35:49.175989Z",
     "iopub.status.busy": "2023-12-07T06:35:49.175552Z",
     "iopub.status.idle": "2023-12-07T06:35:49.199770Z",
     "shell.execute_reply": "2023-12-07T06:35:49.198156Z",
     "shell.execute_reply.started": "2023-12-07T06:35:49.175955Z"
    }
   },
   "outputs": [
    {
     "name": "stdout",
     "output_type": "stream",
     "text": [
      "<class 'pandas.core.frame.DataFrame'>\n",
      "Int64Index: 27635763 entries, 0 to 27635762\n",
      "Data columns (total 23 columns):\n",
      " #   Column            Dtype         \n",
      "---  ------            -----         \n",
      " 0   city_name         object        \n",
      " 1   date              datetime64[ns]\n",
      " 2   season            category      \n",
      " 3   avg_temp_c        float64       \n",
      " 4   min_temp_c        float64       \n",
      " 5   max_temp_c        float64       \n",
      " 6   precipitation_mm  float64       \n",
      " 7   country           object        \n",
      " 8   state             object        \n",
      " 9   iso2_x            object        \n",
      " 10  iso3_x            object        \n",
      " 11  latitude          float64       \n",
      " 12  longitude         float64       \n",
      " 13  native_name       object        \n",
      " 14  iso2_y            object        \n",
      " 15  iso3_y            object        \n",
      " 16  population        float64       \n",
      " 17  area              float64       \n",
      " 18  capital           object        \n",
      " 19  capital_lat       float64       \n",
      " 20  capital_lng       float64       \n",
      " 21  region            object        \n",
      " 22  continent         object        \n",
      "dtypes: category(1), datetime64[ns](1), float64(10), object(11)\n",
      "memory usage: 4.8+ GB\n"
     ]
    }
   ],
   "source": [
    "final_df.info()"
   ]
  },
  {
   "cell_type": "code",
   "execution_count": 19,
   "metadata": {
    "execution": {
     "iopub.execute_input": "2023-12-07T05:20:24.572394Z",
     "iopub.status.busy": "2023-12-07T05:20:24.571990Z",
     "iopub.status.idle": "2023-12-07T05:21:01.298370Z",
     "shell.execute_reply": "2023-12-07T05:21:01.297170Z",
     "shell.execute_reply.started": "2023-12-07T05:20:24.572342Z"
    }
   },
   "outputs": [
    {
     "data": {
      "text/plain": [
       "<AxesSubplot:>"
      ]
     },
     "execution_count": 19,
     "metadata": {},
     "output_type": "execute_result"
    },
    {
     "data": {
      "image/png": "[encoded data removed]",
      "text/plain": [
       "<Figure size 640x480 with 1 Axes>"
      ]
     },
     "metadata": {},
     "output_type": "display_data"
    }
   ],
   "source": [
    "final_df.isna().sum().plot(kind=\"bar\")"
   ]
  },
  {
   "cell_type": "markdown",
   "metadata": {},
   "source": [
    "<p>Above, is the final_df graph for null values in the dataframe </p>"
   ]
  },
  {
   "cell_type": "code",
   "execution_count": 20,
   "metadata": {
    "execution": {
     "iopub.execute_input": "2023-12-07T06:35:58.804175Z",
     "iopub.status.busy": "2023-12-07T06:35:58.802838Z",
     "iopub.status.idle": "2023-12-07T06:36:04.494679Z",
     "shell.execute_reply": "2023-12-07T06:36:04.493733Z",
     "shell.execute_reply.started": "2023-12-07T06:35:58.804120Z"
    }
   },
   "outputs": [],
   "source": [
    "final_df.drop(columns=[\"native_name\",'iso2_y','iso3_y','capital_lat','capital_lng','iso2_x','iso3_x'],inplace=True)"
   ]
  },
  {
   "cell_type": "code",
   "execution_count": 21,
   "metadata": {
    "execution": {
     "iopub.execute_input": "2023-12-07T06:36:07.636973Z",
     "iopub.status.busy": "2023-12-07T06:36:07.636553Z",
     "iopub.status.idle": "2023-12-07T06:36:30.761393Z",
     "shell.execute_reply": "2023-12-07T06:36:30.759984Z",
     "shell.execute_reply.started": "2023-12-07T06:36:07.636941Z"
    }
   },
   "outputs": [
    {
     "data": {
      "text/plain": [
       "<AxesSubplot:>"
      ]
     },
     "execution_count": 21,
     "metadata": {},
     "output_type": "execute_result"
    },
    {
     "data": {
      "image/png": "[encoded data removed]",
      "text/plain": [
       "<Figure size 640x480 with 1 Axes>"
      ]
     },
     "metadata": {},
     "output_type": "display_data"
    }
   ],
   "source": [
    "final_df.isna().sum().plot(kind=\"bar\")"
   ]
  },
  {
   "cell_type": "markdown",
   "metadata": {},
   "source": [
    "<h2>Dropping the rows with null values</h2>"
   ]
  },
  {
   "cell_type": "code",
   "execution_count": 22,
   "metadata": {
    "execution": {
     "iopub.execute_input": "2023-12-07T06:37:26.224947Z",
     "iopub.status.busy": "2023-12-07T06:37:26.224418Z",
     "iopub.status.idle": "2023-12-07T06:37:47.029076Z",
     "shell.execute_reply": "2023-12-07T06:37:47.027646Z",
     "shell.execute_reply.started": "2023-12-07T06:37:26.224905Z"
    }
   },
   "outputs": [],
   "source": [
    "final_df.dropna(subset=['avg_temp_c','precipitation_mm','population','area','continent','state','city_name','capital','region'],inplace=True)"
   ]
  },
  {
   "cell_type": "code",
   "execution_count": 23,
   "metadata": {
    "execution": {
     "iopub.execute_input": "2023-12-07T06:39:37.601389Z",
     "iopub.status.busy": "2023-12-07T06:39:37.600871Z",
     "iopub.status.idle": "2023-12-07T06:39:49.404905Z",
     "shell.execute_reply": "2023-12-07T06:39:49.403750Z",
     "shell.execute_reply.started": "2023-12-07T06:39:37.601351Z"
    }
   },
   "outputs": [
    {
     "name": "stdout",
     "output_type": "stream",
     "text": [
      "city_name           0\n",
      "date                0\n",
      "season              0\n",
      "avg_temp_c          0\n",
      "min_temp_c          0\n",
      "max_temp_c          0\n",
      "precipitation_mm    0\n",
      "country             0\n",
      "state               0\n",
      "latitude            0\n",
      "longitude           0\n",
      "population          0\n",
      "area                0\n",
      "capital             0\n",
      "region              0\n",
      "continent           0\n",
      "dtype: int64\n",
      "(13650356, 16)\n"
     ]
    }
   ],
   "source": [
    "final_df['min_temp_c'] = final_df['min_temp_c'].fillna(final_df['min_temp_c'].mean())\n",
    "\n",
    "final_df['max_temp_c'] = final_df['max_temp_c'].fillna(final_df['max_temp_c'].median())\n",
    "\n",
    "print(final_df.isna().sum())\n",
    "print(final_df.shape)"
   ]
  },
  {
   "cell_type": "code",
   "execution_count": 24,
   "metadata": {
    "execution": {
     "iopub.execute_input": "2023-12-07T06:38:41.005889Z",
     "iopub.status.busy": "2023-12-07T06:38:41.005423Z",
     "iopub.status.idle": "2023-12-07T06:38:41.020352Z",
     "shell.execute_reply": "2023-12-07T06:38:41.017856Z",
     "shell.execute_reply.started": "2023-12-07T06:38:41.005818Z"
    }
   },
   "outputs": [
    {
     "name": "stdout",
     "output_type": "stream",
     "text": [
      "<class 'pandas.core.frame.DataFrame'>\n",
      "Int64Index: 13650356 entries, 0 to 27635754\n",
      "Data columns (total 16 columns):\n",
      " #   Column            Dtype         \n",
      "---  ------            -----         \n",
      " 0   city_name         object        \n",
      " 1   date              datetime64[ns]\n",
      " 2   season            category      \n",
      " 3   avg_temp_c        float64       \n",
      " 4   min_temp_c        float64       \n",
      " 5   max_temp_c        float64       \n",
      " 6   precipitation_mm  float64       \n",
      " 7   country           object        \n",
      " 8   state             object        \n",
      " 9   latitude          float64       \n",
      " 10  longitude         float64       \n",
      " 11  population        float64       \n",
      " 12  area              float64       \n",
      " 13  capital           object        \n",
      " 14  region            object        \n",
      " 15  continent         object        \n",
      "dtypes: category(1), datetime64[ns](1), float64(8), object(6)\n",
      "memory usage: 1.6+ GB\n"
     ]
    }
   ],
   "source": [
    "final_df.info()"
   ]
  },
  {
   "cell_type": "code",
   "execution_count": 25,
   "metadata": {
    "execution": {
     "iopub.execute_input": "2023-12-07T06:40:24.198944Z",
     "iopub.status.busy": "2023-12-07T06:40:24.198423Z",
     "iopub.status.idle": "2023-12-07T06:40:25.616908Z",
     "shell.execute_reply": "2023-12-07T06:40:25.615503Z",
     "shell.execute_reply.started": "2023-12-07T06:40:24.198905Z"
    }
   },
   "outputs": [],
   "source": [
    "import matplotlib.pyplot as plt\n",
    "import seaborn as sns"
   ]
  },
  {
   "cell_type": "markdown",
   "metadata": {},
   "source": [
    "<p> matplotlib.pyplot is a powerful plotting library for creating static, interactive, and animated visualizations in Python. It provides a MATLAB-like interface and is highly customizable. </p>"
   ]
  },
  {
   "cell_type": "markdown",
   "metadata": {},
   "source": [
    "<h2>Correlation Matrix</h2>"
   ]
  },
  {
   "cell_type": "markdown",
   "metadata": {},
   "source": [
    "<h4> The resulting heatmap visualizes the correlations between different numerical variables in the temp DataFrame. Each cell in the heatmap represents the correlation coefficient between two variables, with colors indicating the strength and direction of the correlation (e.g., positive correlation, negative correlation, or no correlation).</h4>"
   ]
  },
  {
   "cell_type": "code",
   "execution_count": 26,
   "metadata": {
    "execution": {
     "iopub.execute_input": "2023-12-07T06:40:54.076165Z",
     "iopub.status.busy": "2023-12-07T06:40:54.075701Z",
     "iopub.status.idle": "2023-12-07T06:40:58.364914Z",
     "shell.execute_reply": "2023-12-07T06:40:58.363578Z",
     "shell.execute_reply.started": "2023-12-07T06:40:54.076129Z"
    }
   },
   "outputs": [
    {
     "data": {
      "image/png": "[encoded data removed]",
      "text/plain": [
       "<Figure size 1000x1000 with 2 Axes>"
      ]
     },
     "metadata": {},
     "output_type": "display_data"
    }
   ],
   "source": [
    "plt.figure(figsize=(10,10))\n",
    "temp = final_df.drop(columns=['city_name','date','season','country','state','continent','region','capital'])\n",
    "sns.heatmap(temp.corr(), annot=True, fmt=\".2f\")\n",
    "plt.show()"
   ]
  },
  {
   "cell_type": "markdown",
   "metadata": {},
   "source": [
    "<h2>Handling Categorical variables</h2>\n",
    "<p>Using one-hot encoding</p>\n",
    "<p>LabelEncoder is used to transform categorical labels into numerical labels. It assigns a unique integer to each unique category in the categorical variable. For example, if you have a categorical variable 'City' with categories 'New York', 'London', and 'Paris', LabelEncoder will transform them into 0, 1, and 2 </p>"
   ]
  },
  {
   "cell_type": "code",
   "execution_count": 27,
   "metadata": {
    "execution": {
     "iopub.execute_input": "2023-12-07T06:41:43.859818Z",
     "iopub.status.busy": "2023-12-07T06:41:43.859304Z",
     "iopub.status.idle": "2023-12-07T06:41:44.017717Z",
     "shell.execute_reply": "2023-12-07T06:41:44.016476Z",
     "shell.execute_reply.started": "2023-12-07T06:41:43.859776Z"
    }
   },
   "outputs": [],
   "source": [
    "from sklearn.preprocessing import LabelEncoder \n",
    "le = LabelEncoder()"
   ]
  },
  {
   "cell_type": "code",
   "execution_count": 28,
   "metadata": {
    "execution": {
     "iopub.execute_input": "2023-12-07T06:42:11.141088Z",
     "iopub.status.busy": "2023-12-07T06:42:11.140634Z",
     "iopub.status.idle": "2023-12-07T06:42:16.355378Z",
     "shell.execute_reply": "2023-12-07T06:42:16.354335Z",
     "shell.execute_reply.started": "2023-12-07T06:42:11.141037Z"
    }
   },
   "outputs": [
    {
     "data": {
      "text/html": [
       "<div>\n",
       "<style scoped>\n",
       "    .dataframe tbody tr th:only-of-type {\n",
       "        vertical-align: middle;\n",
       "    }\n",
       "\n",
       "    .dataframe tbody tr th {\n",
       "        vertical-align: top;\n",
       "    }\n",
       "\n",
       "    .dataframe thead th {\n",
       "        text-align: right;\n",
       "    }\n",
       "</style>\n",
       "<table border=\"1\" class=\"dataframe\">\n",
       "  <thead>\n",
       "    <tr style=\"text-align: right;\">\n",
       "      <th></th>\n",
       "      <th>city_name</th>\n",
       "      <th>date</th>\n",
       "      <th>avg_temp_c</th>\n",
       "      <th>min_temp_c</th>\n",
       "      <th>max_temp_c</th>\n",
       "      <th>precipitation_mm</th>\n",
       "      <th>country</th>\n",
       "      <th>state</th>\n",
       "      <th>latitude</th>\n",
       "      <th>longitude</th>\n",
       "      <th>population</th>\n",
       "      <th>area</th>\n",
       "      <th>capital</th>\n",
       "      <th>region</th>\n",
       "      <th>continent</th>\n",
       "      <th>season_Spring</th>\n",
       "      <th>season_Summer</th>\n",
       "      <th>season_Winter</th>\n",
       "    </tr>\n",
       "  </thead>\n",
       "  <tbody>\n",
       "    <tr>\n",
       "      <th>0</th>\n",
       "      <td>Asadabad</td>\n",
       "      <td>1957-07-01</td>\n",
       "      <td>27.0</td>\n",
       "      <td>21.1</td>\n",
       "      <td>35.6</td>\n",
       "      <td>0.0</td>\n",
       "      <td>Afghanistan</td>\n",
       "      <td>Kunar</td>\n",
       "      <td>34.866</td>\n",
       "      <td>71.150005</td>\n",
       "      <td>26023100.0</td>\n",
       "      <td>652230.0</td>\n",
       "      <td>Kabul</td>\n",
       "      <td>Southern and Central Asia</td>\n",
       "      <td>Asia</td>\n",
       "      <td>0</td>\n",
       "      <td>1</td>\n",
       "      <td>0</td>\n",
       "    </tr>\n",
       "    <tr>\n",
       "      <th>1</th>\n",
       "      <td>Asadabad</td>\n",
       "      <td>1957-07-02</td>\n",
       "      <td>22.8</td>\n",
       "      <td>18.9</td>\n",
       "      <td>32.2</td>\n",
       "      <td>0.0</td>\n",
       "      <td>Afghanistan</td>\n",
       "      <td>Kunar</td>\n",
       "      <td>34.866</td>\n",
       "      <td>71.150005</td>\n",
       "      <td>26023100.0</td>\n",
       "      <td>652230.0</td>\n",
       "      <td>Kabul</td>\n",
       "      <td>Southern and Central Asia</td>\n",
       "      <td>Asia</td>\n",
       "      <td>0</td>\n",
       "      <td>1</td>\n",
       "      <td>0</td>\n",
       "    </tr>\n",
       "    <tr>\n",
       "      <th>2</th>\n",
       "      <td>Asadabad</td>\n",
       "      <td>1957-07-03</td>\n",
       "      <td>24.3</td>\n",
       "      <td>16.7</td>\n",
       "      <td>35.6</td>\n",
       "      <td>1.0</td>\n",
       "      <td>Afghanistan</td>\n",
       "      <td>Kunar</td>\n",
       "      <td>34.866</td>\n",
       "      <td>71.150005</td>\n",
       "      <td>26023100.0</td>\n",
       "      <td>652230.0</td>\n",
       "      <td>Kabul</td>\n",
       "      <td>Southern and Central Asia</td>\n",
       "      <td>Asia</td>\n",
       "      <td>0</td>\n",
       "      <td>1</td>\n",
       "      <td>0</td>\n",
       "    </tr>\n",
       "    <tr>\n",
       "      <th>3</th>\n",
       "      <td>Asadabad</td>\n",
       "      <td>1957-07-04</td>\n",
       "      <td>26.6</td>\n",
       "      <td>16.1</td>\n",
       "      <td>37.8</td>\n",
       "      <td>4.1</td>\n",
       "      <td>Afghanistan</td>\n",
       "      <td>Kunar</td>\n",
       "      <td>34.866</td>\n",
       "      <td>71.150005</td>\n",
       "      <td>26023100.0</td>\n",
       "      <td>652230.0</td>\n",
       "      <td>Kabul</td>\n",
       "      <td>Southern and Central Asia</td>\n",
       "      <td>Asia</td>\n",
       "      <td>0</td>\n",
       "      <td>1</td>\n",
       "      <td>0</td>\n",
       "    </tr>\n",
       "    <tr>\n",
       "      <th>4</th>\n",
       "      <td>Asadabad</td>\n",
       "      <td>1957-07-05</td>\n",
       "      <td>30.8</td>\n",
       "      <td>20.0</td>\n",
       "      <td>41.7</td>\n",
       "      <td>0.0</td>\n",
       "      <td>Afghanistan</td>\n",
       "      <td>Kunar</td>\n",
       "      <td>34.866</td>\n",
       "      <td>71.150005</td>\n",
       "      <td>26023100.0</td>\n",
       "      <td>652230.0</td>\n",
       "      <td>Kabul</td>\n",
       "      <td>Southern and Central Asia</td>\n",
       "      <td>Asia</td>\n",
       "      <td>0</td>\n",
       "      <td>1</td>\n",
       "      <td>0</td>\n",
       "    </tr>\n",
       "  </tbody>\n",
       "</table>\n",
       "</div>"
      ],
      "text/plain": [
       "  city_name       date  avg_temp_c  min_temp_c  max_temp_c  precipitation_mm  \\\n",
       "0  Asadabad 1957-07-01        27.0        21.1        35.6               0.0   \n",
       "1  Asadabad 1957-07-02        22.8        18.9        32.2               0.0   \n",
       "2  Asadabad 1957-07-03        24.3        16.7        35.6               1.0   \n",
       "3  Asadabad 1957-07-04        26.6        16.1        37.8               4.1   \n",
       "4  Asadabad 1957-07-05        30.8        20.0        41.7               0.0   \n",
       "\n",
       "       country  state  latitude  longitude  population      area capital  \\\n",
       "0  Afghanistan  Kunar    34.866  71.150005  26023100.0  652230.0   Kabul   \n",
       "1  Afghanistan  Kunar    34.866  71.150005  26023100.0  652230.0   Kabul   \n",
       "2  Afghanistan  Kunar    34.866  71.150005  26023100.0  652230.0   Kabul   \n",
       "3  Afghanistan  Kunar    34.866  71.150005  26023100.0  652230.0   Kabul   \n",
       "4  Afghanistan  Kunar    34.866  71.150005  26023100.0  652230.0   Kabul   \n",
       "\n",
       "                      region continent  season_Spring  season_Summer  \\\n",
       "0  Southern and Central Asia      Asia              0              1   \n",
       "1  Southern and Central Asia      Asia              0              1   \n",
       "2  Southern and Central Asia      Asia              0              1   \n",
       "3  Southern and Central Asia      Asia              0              1   \n",
       "4  Southern and Central Asia      Asia              0              1   \n",
       "\n",
       "   season_Winter  \n",
       "0              0  \n",
       "1              0  \n",
       "2              0  \n",
       "3              0  \n",
       "4              0  "
      ]
     },
     "execution_count": 28,
     "metadata": {},
     "output_type": "execute_result"
    }
   ],
   "source": [
    "final_df = pd.get_dummies(final_df, columns=['season'], drop_first=True)\n",
    "\n",
    "final_df.head()"
   ]
  },
  {
   "cell_type": "markdown",
   "metadata": {},
   "source": [
    "<p>Handling categorical values using LabelEncoder</p>"
   ]
  },
  {
   "cell_type": "code",
   "execution_count": 29,
   "metadata": {
    "execution": {
     "iopub.execute_input": "2023-12-07T06:44:04.630669Z",
     "iopub.status.busy": "2023-12-07T06:44:04.630217Z",
     "iopub.status.idle": "2023-12-07T06:44:25.889321Z",
     "shell.execute_reply": "2023-12-07T06:44:25.887571Z",
     "shell.execute_reply.started": "2023-12-07T06:44:04.630635Z"
    }
   },
   "outputs": [
    {
     "data": {
      "text/html": [
       "<div>\n",
       "<style scoped>\n",
       "    .dataframe tbody tr th:only-of-type {\n",
       "        vertical-align: middle;\n",
       "    }\n",
       "\n",
       "    .dataframe tbody tr th {\n",
       "        vertical-align: top;\n",
       "    }\n",
       "\n",
       "    .dataframe thead th {\n",
       "        text-align: right;\n",
       "    }\n",
       "</style>\n",
       "<table border=\"1\" class=\"dataframe\">\n",
       "  <thead>\n",
       "    <tr style=\"text-align: right;\">\n",
       "      <th></th>\n",
       "      <th>city_name</th>\n",
       "      <th>date</th>\n",
       "      <th>avg_temp_c</th>\n",
       "      <th>min_temp_c</th>\n",
       "      <th>max_temp_c</th>\n",
       "      <th>precipitation_mm</th>\n",
       "      <th>country</th>\n",
       "      <th>state</th>\n",
       "      <th>latitude</th>\n",
       "      <th>longitude</th>\n",
       "      <th>population</th>\n",
       "      <th>area</th>\n",
       "      <th>capital</th>\n",
       "      <th>region</th>\n",
       "      <th>continent</th>\n",
       "      <th>season_Spring</th>\n",
       "      <th>season_Summer</th>\n",
       "      <th>season_Winter</th>\n",
       "    </tr>\n",
       "  </thead>\n",
       "  <tbody>\n",
       "    <tr>\n",
       "      <th>0</th>\n",
       "      <td>Asadabad</td>\n",
       "      <td>1957-07-01</td>\n",
       "      <td>27.0</td>\n",
       "      <td>21.1</td>\n",
       "      <td>35.6</td>\n",
       "      <td>0.0</td>\n",
       "      <td>0</td>\n",
       "      <td>486</td>\n",
       "      <td>34.866</td>\n",
       "      <td>71.150005</td>\n",
       "      <td>26023100.0</td>\n",
       "      <td>652230.0</td>\n",
       "      <td>66</td>\n",
       "      <td>20</td>\n",
       "      <td>2</td>\n",
       "      <td>0</td>\n",
       "      <td>1</td>\n",
       "      <td>0</td>\n",
       "    </tr>\n",
       "    <tr>\n",
       "      <th>1</th>\n",
       "      <td>Asadabad</td>\n",
       "      <td>1957-07-02</td>\n",
       "      <td>22.8</td>\n",
       "      <td>18.9</td>\n",
       "      <td>32.2</td>\n",
       "      <td>0.0</td>\n",
       "      <td>0</td>\n",
       "      <td>486</td>\n",
       "      <td>34.866</td>\n",
       "      <td>71.150005</td>\n",
       "      <td>26023100.0</td>\n",
       "      <td>652230.0</td>\n",
       "      <td>66</td>\n",
       "      <td>20</td>\n",
       "      <td>2</td>\n",
       "      <td>0</td>\n",
       "      <td>1</td>\n",
       "      <td>0</td>\n",
       "    </tr>\n",
       "    <tr>\n",
       "      <th>2</th>\n",
       "      <td>Asadabad</td>\n",
       "      <td>1957-07-03</td>\n",
       "      <td>24.3</td>\n",
       "      <td>16.7</td>\n",
       "      <td>35.6</td>\n",
       "      <td>1.0</td>\n",
       "      <td>0</td>\n",
       "      <td>486</td>\n",
       "      <td>34.866</td>\n",
       "      <td>71.150005</td>\n",
       "      <td>26023100.0</td>\n",
       "      <td>652230.0</td>\n",
       "      <td>66</td>\n",
       "      <td>20</td>\n",
       "      <td>2</td>\n",
       "      <td>0</td>\n",
       "      <td>1</td>\n",
       "      <td>0</td>\n",
       "    </tr>\n",
       "    <tr>\n",
       "      <th>3</th>\n",
       "      <td>Asadabad</td>\n",
       "      <td>1957-07-04</td>\n",
       "      <td>26.6</td>\n",
       "      <td>16.1</td>\n",
       "      <td>37.8</td>\n",
       "      <td>4.1</td>\n",
       "      <td>0</td>\n",
       "      <td>486</td>\n",
       "      <td>34.866</td>\n",
       "      <td>71.150005</td>\n",
       "      <td>26023100.0</td>\n",
       "      <td>652230.0</td>\n",
       "      <td>66</td>\n",
       "      <td>20</td>\n",
       "      <td>2</td>\n",
       "      <td>0</td>\n",
       "      <td>1</td>\n",
       "      <td>0</td>\n",
       "    </tr>\n",
       "    <tr>\n",
       "      <th>4</th>\n",
       "      <td>Asadabad</td>\n",
       "      <td>1957-07-05</td>\n",
       "      <td>30.8</td>\n",
       "      <td>20.0</td>\n",
       "      <td>41.7</td>\n",
       "      <td>0.0</td>\n",
       "      <td>0</td>\n",
       "      <td>486</td>\n",
       "      <td>34.866</td>\n",
       "      <td>71.150005</td>\n",
       "      <td>26023100.0</td>\n",
       "      <td>652230.0</td>\n",
       "      <td>66</td>\n",
       "      <td>20</td>\n",
       "      <td>2</td>\n",
       "      <td>0</td>\n",
       "      <td>1</td>\n",
       "      <td>0</td>\n",
       "    </tr>\n",
       "  </tbody>\n",
       "</table>\n",
       "</div>"
      ],
      "text/plain": [
       "  city_name       date  avg_temp_c  min_temp_c  max_temp_c  precipitation_mm  \\\n",
       "0  Asadabad 1957-07-01        27.0        21.1        35.6               0.0   \n",
       "1  Asadabad 1957-07-02        22.8        18.9        32.2               0.0   \n",
       "2  Asadabad 1957-07-03        24.3        16.7        35.6               1.0   \n",
       "3  Asadabad 1957-07-04        26.6        16.1        37.8               4.1   \n",
       "4  Asadabad 1957-07-05        30.8        20.0        41.7               0.0   \n",
       "\n",
       "   country  state  latitude  longitude  population      area  capital  region  \\\n",
       "0        0    486    34.866  71.150005  26023100.0  652230.0       66      20   \n",
       "1        0    486    34.866  71.150005  26023100.0  652230.0       66      20   \n",
       "2        0    486    34.866  71.150005  26023100.0  652230.0       66      20   \n",
       "3        0    486    34.866  71.150005  26023100.0  652230.0       66      20   \n",
       "4        0    486    34.866  71.150005  26023100.0  652230.0       66      20   \n",
       "\n",
       "   continent  season_Spring  season_Summer  season_Winter  \n",
       "0          2              0              1              0  \n",
       "1          2              0              1              0  \n",
       "2          2              0              1              0  \n",
       "3          2              0              1              0  \n",
       "4          2              0              1              0  "
      ]
     },
     "execution_count": 29,
     "metadata": {},
     "output_type": "execute_result"
    }
   ],
   "source": [
    "final_df['region'] = le.fit_transform(final_df['region'])\n",
    "final_df['continent'] = le.fit_transform(final_df['continent'])\n",
    "final_df['capital'] = le.fit_transform(final_df['capital'])\n",
    "final_df['country'] = le.fit_transform(final_df['country'])\n",
    "final_df['state'] = le.fit_transform(final_df['state'])\n",
    "\n",
    "final_df.head()"
   ]
  },
  {
   "cell_type": "code",
   "execution_count": 30,
   "metadata": {
    "execution": {
     "iopub.execute_input": "2023-12-07T06:51:59.974277Z",
     "iopub.status.busy": "2023-12-07T06:51:59.973674Z",
     "iopub.status.idle": "2023-12-07T06:52:01.311832Z",
     "shell.execute_reply": "2023-12-07T06:52:01.310163Z",
     "shell.execute_reply.started": "2023-12-07T06:51:59.974236Z"
    }
   },
   "outputs": [],
   "source": [
    "final_df.drop(columns=['population','area'],inplace=True)"
   ]
  },
  {
   "cell_type": "code",
   "execution_count": 31,
   "metadata": {
    "execution": {
     "iopub.execute_input": "2023-12-07T06:52:07.856883Z",
     "iopub.status.busy": "2023-12-07T06:52:07.855478Z",
     "iopub.status.idle": "2023-12-07T06:52:07.872144Z",
     "shell.execute_reply": "2023-12-07T06:52:07.870502Z",
     "shell.execute_reply.started": "2023-12-07T06:52:07.856824Z"
    },
    "scrolled": true
   },
   "outputs": [
    {
     "name": "stdout",
     "output_type": "stream",
     "text": [
      "<class 'pandas.core.frame.DataFrame'>\n",
      "Int64Index: 13650356 entries, 0 to 27635754\n",
      "Data columns (total 16 columns):\n",
      " #   Column            Dtype         \n",
      "---  ------            -----         \n",
      " 0   city_name         object        \n",
      " 1   date              datetime64[ns]\n",
      " 2   avg_temp_c        float64       \n",
      " 3   min_temp_c        float64       \n",
      " 4   max_temp_c        float64       \n",
      " 5   precipitation_mm  float64       \n",
      " 6   country           int64         \n",
      " 7   state             int64         \n",
      " 8   latitude          float64       \n",
      " 9   longitude         float64       \n",
      " 10  capital           int64         \n",
      " 11  region            int64         \n",
      " 12  continent         int64         \n",
      " 13  season_Spring     uint8         \n",
      " 14  season_Summer     uint8         \n",
      " 15  season_Winter     uint8         \n",
      "dtypes: datetime64[ns](1), float64(6), int64(5), object(1), uint8(3)\n",
      "memory usage: 1.5+ GB\n"
     ]
    }
   ],
   "source": [
    "final_df.info()"
   ]
  },
  {
   "cell_type": "code",
   "execution_count": 32,
   "metadata": {
    "execution": {
     "iopub.execute_input": "2023-12-07T06:52:48.482189Z",
     "iopub.status.busy": "2023-12-07T06:52:48.481620Z",
     "iopub.status.idle": "2023-12-07T06:52:52.531330Z",
     "shell.execute_reply": "2023-12-07T06:52:52.529964Z",
     "shell.execute_reply.started": "2023-12-07T06:52:48.482142Z"
    }
   },
   "outputs": [
    {
     "data": {
      "text/plain": [
       "city_name           0\n",
       "date                0\n",
       "avg_temp_c          0\n",
       "min_temp_c          0\n",
       "max_temp_c          0\n",
       "precipitation_mm    0\n",
       "country             0\n",
       "state               0\n",
       "latitude            0\n",
       "longitude           0\n",
       "capital             0\n",
       "region              0\n",
       "continent           0\n",
       "season_Spring       0\n",
       "season_Summer       0\n",
       "season_Winter       0\n",
       "dtype: int64"
      ]
     },
     "execution_count": 32,
     "metadata": {},
     "output_type": "execute_result"
    }
   ],
   "source": [
    "final_df.isna().sum()"
   ]
  },
  {
   "cell_type": "code",
   "execution_count": 33,
   "metadata": {
    "execution": {
     "iopub.execute_input": "2023-12-07T06:55:11.865184Z",
     "iopub.status.busy": "2023-12-07T06:55:11.863655Z",
     "iopub.status.idle": "2023-12-07T06:58:12.468740Z",
     "shell.execute_reply": "2023-12-07T06:58:12.467157Z",
     "shell.execute_reply.started": "2023-12-07T06:55:11.865113Z"
    }
   },
   "outputs": [],
   "source": [
    "final_df.to_csv(\"total_data_version_1.csv\",index=False)"
   ]
  }
 ],
 "metadata": {
  "accelerator": "GPU",
  "colab": {
   "gpuType": "T4",
   "provenance": []
  },
  "kaggle": {
   "accelerator": "none",
   "dataSources": [
    {
     "datasetId": 3601135,
     "sourceId": 6406758,
     "sourceType": "datasetVersion"
    },
    {
     "datasetId": 4122899,
     "sourceId": 7143032,
     "sourceType": "datasetVersion"
    }
   ],
   "dockerImageVersionId": 30587,
   "isGpuEnabled": false,
   "isInternetEnabled": true,
   "language": "python",
   "sourceType": "notebook"
  },
  "kernelspec": {
   "display_name": "Python 3 (ipykernel)",
   "language": "python",
   "name": "python3"
  },
  "language_info": {
   "codemirror_mode": {
    "name": "ipython",
    "version": 3
   },
   "file_extension": ".py",
   "mimetype": "text/x-python",
   "name": "python",
   "nbconvert_exporter": "python",
   "pygments_lexer": "ipython3",
   "version": "3.12.4"
  }
 },
 "nbformat": 4,
 "nbformat_minor": 4
}
